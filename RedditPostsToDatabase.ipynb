{
  "nbformat": 4,
  "nbformat_minor": 0,
  "metadata": {
    "colab": {
      "provenance": [],
      "toc_visible": true,
      "authorship_tag": "ABX9TyMAODQDJCxryXL/j+1Q69H0",
      "include_colab_link": true
    },
    "kernelspec": {
      "name": "python3",
      "display_name": "Python 3"
    },
    "language_info": {
      "name": "python"
    }
  },
  "cells": [
    {
      "cell_type": "markdown",
      "metadata": {
        "id": "view-in-github",
        "colab_type": "text"
      },
      "source": [
        "<a href=\"https://colab.research.google.com/github/JamesMartinOU/PublicRedditSentimentAnalysis/blob/main/RedditPostsToDatabase.ipynb\" target=\"_parent\"><img src=\"https://colab.research.google.com/assets/colab-badge.svg\" alt=\"Open In Colab\"/></a>"
      ]
    },
    {
      "cell_type": "markdown",
      "source": [
        "# Step One - Python libraries and Global variables.\n",
        "\n",
        "1.   Install Python libraries\n",
        "2.   Load Python libraries\n",
        "3.   Define Global variables\n",
        "\n"
      ],
      "metadata": {
        "id": "PspEZHk5Y5JI"
      }
    },
    {
      "cell_type": "code",
      "source": [
        "# Install Python libraries\n",
        "!pip install praw\n",
        "!pip install pandas\n",
        "!pip install mysql-connector-python"
      ],
      "metadata": {
        "id": "EXBWo6VoZjTB"
      },
      "execution_count": null,
      "outputs": []
    },
    {
      "cell_type": "code",
      "source": [
        "# Load Python libraries\n",
        "import pandas as pd\n",
        "import mysql.connector\n",
        "import praw\n",
        "from google.colab import files\n",
        "import time\n",
        "import prawcore"
      ],
      "metadata": {
        "id": "aioWZKuhZphA"
      },
      "execution_count": null,
      "outputs": []
    },
    {
      "cell_type": "code",
      "source": [
        "# Define dictionary containing Top 100 Companies, CEOs, and Stock Symbol\n",
        "fortune_100_ceos_with_symbols = [\n",
        "    {\"Company\": \"Walmart\", \"CEO\": \"Doug McMillon\", \"Stock Symbol\": \"WMT\"},\n",
        "    {\"Company\": \"Amazon\", \"CEO\": \"Andy Jassy\", \"Stock Symbol\": \"AMZN\"},\n",
        "    {\"Company\": \"State Grid\", \"CEO\": \"Kang Yong\", \"Stock Symbol\": \"SGRE\"},\n",
        "    {\"Company\": \"Saudi Aramco\", \"CEO\": \"Amin H. Nasser\", \"Stock Symbol\": \"2222.SR\"},\n",
        "    {\"Company\": \"Sinopec\", \"CEO\": \"Dai Houliang\", \"Stock Symbol\": \"0386.HK\"},\n",
        "    {\"Company\": \"Apple\", \"CEO\": \"Tim Cook\", \"Stock Symbol\": \"AAPL\"},\n",
        "    {\"Company\": \"UnitedHealth Group\", \"CEO\": \"Andrew Witty\", \"Stock Symbol\": \"UNH\"},\n",
        "    {\"Company\": \"Berkshire Hathaway\", \"CEO\": \"Warren Buffett\", \"Stock Symbol\": \"BRK.A\"},\n",
        "    {\"Company\": \"CVS Health\", \"CEO\": \"Karen S. Lynch\", \"Stock Symbol\": \"CVS\"},\n",
        "    {\"Company\": \"Exxon Mobil\", \"CEO\": \"Darren W. Woods\", \"Stock Symbol\": \"XOM\"},\n",
        "    {\"Company\": \"McKesson\", \"CEO\": \"Brian Tyler\", \"Stock Symbol\": \"MCK\"},\n",
        "    {\"Company\": \"Cencora\", \"CEO\": \"Everett L. (Ed) Schoonover\", \"Stock Symbol\": \"CNC\"},\n",
        "    {\"Company\": \"Cigna\", \"CEO\": \"David Cordani\", \"Stock Symbol\": \"CI\"},\n",
        "    {\"Company\": \"Cardinal Health\", \"CEO\": \"Mike Kaufmann\", \"Stock Symbol\": \"CAH\"},\n",
        "    {\"Company\": \"Comcast\", \"CEO\": \"Brian L. Roberts\", \"Stock Symbol\": \"CMCSA\"},\n",
        "    {\"Company\": \"Costco Wholesale\", \"CEO\": \"Craig Jelinek\", \"Stock Symbol\": \"COST\"},\n",
        "    {\"Company\": \"Tesla\", \"CEO\": \"Elon Musk\", \"Stock Symbol\": \"TSLA\"},\n",
        "    {\"Company\": \"Walgreens Boots Alliance\", \"CEO\": \"Rosalind Brewer\", \"Stock Symbol\": \"WBA\"},\n",
        "    {\"Company\": \"Verizon Communications\", \"CEO\": \"Hans Vestberg\", \"Stock Symbol\": \"VZ\"},\n",
        "    {\"Company\": \"AmerisourceBergen\", \"CEO\": \"Steven H. Collis\", \"Stock Symbol\": \"ABC\"},\n",
        "    {\"Company\": \"Chevron\", \"CEO\": \"Mike Wirth\", \"Stock Symbol\": \"CVX\"},\n",
        "    {\"Company\": \"Home Depot\", \"CEO\": \"Craig Menear\", \"Stock Symbol\": \"HD\"},\n",
        "    {\"Company\": \"Ford Motor\", \"CEO\": \"Jim Farley\", \"Stock Symbol\": \"F\"},\n",
        "    {\"Company\": \"Caterpillar\", \"CEO\": \"Jim Umpleby\", \"Stock Symbol\": \"CAT\"},\n",
        "    {\"Company\": \"Microsoft\", \"CEO\": \"Satya Nadella\", \"Stock Symbol\": \"MSFT\"},\n",
        "    {\"Company\": \"Kroger\", \"CEO\": \"Rodney McMullen\", \"Stock Symbol\": \"KR\"},\n",
        "    {\"Company\": \"Marathon Petroleum\", \"CEO\": \"Michael J. Hennigan\", \"Stock Symbol\": \"MPC\"},\n",
        "    {\"Company\": \"General Motors\", \"CEO\": \"Mary Barra\", \"Stock Symbol\": \"GM\"},\n",
        "    {\"Company\": \"PepsiCo\", \"CEO\": \"Ramon Laguarta\", \"Stock Symbol\": \"PEP\"},\n",
        "    {\"Company\": \"Johnson & Johnson\", \"CEO\": \"Joaquin Duato\", \"Stock Symbol\": \"JNJ\"},\n",
        "    {\"Company\": \"HP\", \"CEO\": \"Enrique Lores\", \"Stock Symbol\": \"HPQ\"},\n",
        "    {\"Company\": \"UPS\", \"CEO\": \"Carol B. Tomé\", \"Stock Symbol\": \"UPS\"},\n",
        "    {\"Company\": \"Hewlett Packard Enterprise\", \"CEO\": \"Antonio Neri\", \"Stock Symbol\": \"HPE\"},\n",
        "    {\"Company\": \"Anthem\", \"CEO\": \"Gail Boudreaux\", \"Stock Symbol\": \"ANTM\"},\n",
        "    {\"Company\": \"Bristol-Myers Squibb\", \"CEO\": \"Giovanni Caforio\", \"Stock Symbol\": \"BMY\"},\n",
        "    {\"Company\": \"Target\", \"CEO\": \"Brian Cornell\", \"Stock Symbol\": \"TGT\"},\n",
        "    {\"Company\": \"Pfizer\", \"CEO\": \"Albert Bourla\", \"Stock Symbol\": \"PFE\"},\n",
        "    {\"Company\": \"Archer Daniels Midland\", \"CEO\": \"Juan Luciano\", \"Stock Symbol\": \"ADM\"},\n",
        "    {\"Company\": \"Procter & Gamble\", \"CEO\": \"Jon Moeller\", \"Stock Symbol\": \"PG\"},\n",
        "    {\"Company\": \"Morgan Stanley\", \"CEO\": \"James P. Gorman\", \"Stock Symbol\": \"MS\"},\n",
        "    {\"Company\": \"Best Buy\", \"CEO\": \"Corie Barry\", \"Stock Symbol\": \"BBY\"},\n",
        "    {\"Company\": \"Lockheed Martin\", \"CEO\": \"James D. Taiclet\", \"Stock Symbol\": \"LMT\"},\n",
        "    {\"Company\": \"T-Mobile US\", \"CEO\": \"Mike Sievert\", \"Stock Symbol\": \"TMUS\"},\n",
        "    {\"Company\": \"AbbVie\", \"CEO\": \"Richard A. Gonzalez\", \"Stock Symbol\": \"ABBV\"},\n",
        "    {\"Company\": \"Lowe's\", \"CEO\": \"Marvin R. Ellison\", \"Stock Symbol\": \"LOW\"},\n",
        "    {\"Company\": \"Raytheon Technologies\", \"CEO\": \"Gregory J. Hayes\", \"Stock Symbol\": \"RTX\"},\n",
        "    {\"Company\": \"Intel\", \"CEO\": \"Patrick Gelsinger\", \"Stock Symbol\": \"INTC\"},\n",
        "    {\"Company\": \"Hilton Worldwide\", \"CEO\": \"Christopher J. Nassetta\", \"Stock Symbol\": \"HLT\"},\n",
        "    {\"Company\": \"Oracle\", \"CEO\": \"Safra Catz\", \"Stock Symbol\": \"ORCL\"},\n",
        "    {\"Company\": \"AIG\", \"CEO\": \"Peter Zaffino\", \"Stock Symbol\": \"AIG\"},\n",
        "    {\"Company\": \"Wells Fargo\", \"CEO\": \"Charles W. Scharf\", \"Stock Symbol\": \"WFC\"},\n",
        "    {\"Company\": \"Sysco\", \"CEO\": \"Kevin Hourican\", \"Stock Symbol\": \"SYY\"},\n",
        "    {\"Company\": \"General Electric\", \"CEO\": \"H. Lawrence Culp Jr.\", \"Stock Symbol\": \"GE\"},\n",
        "    {\"Company\": \"The Coca-Cola Company\", \"CEO\": \"James Quincey\", \"Stock Symbol\": \"KO\"},\n",
        "    {\"Company\": \"IBM\", \"CEO\": \"Arvind Krishna\", \"Stock Symbol\": \"IBM\"},\n",
        "    {\"Company\": \"State Farm Insurance\", \"CEO\": \"Michael L. Tipsord\", \"Stock Symbol\": \"STT\"},\n",
        "    {\"Company\": \"MetLife\", \"CEO\": \"Michel A. Khalaf\", \"Stock Symbol\": \"MET\"},\n",
        "    {\"Company\": \"Honeywell International\", \"CEO\": \"Darius Adamczyk\", \"Stock Symbol\": \"HON\"},\n",
        "    {\"Company\": \"Delta Air Lines\", \"CEO\": \"Ed Bastian\", \"Stock Symbol\": \"DAL\"},\n",
        "    {\"Company\": \"AT&T\", \"CEO\": \"John Stankey\", \"Stock Symbol\": \"T\"},\n",
        "    {\"Company\": \"HCA Healthcare\", \"CEO\": \"Sam Hazen\", \"Stock Symbol\": \"HCA\"},\n",
        "    {\"Company\": \"New York Life Insurance\", \"CEO\": \"Ted Mathas\", \"Stock Symbol\": \"NYL\"},\n",
        "    {\"Company\": \"Discovery, Inc.\", \"CEO\": \"David Zaslav\", \"Stock Symbol\": \"DISCA\"},\n",
        "    {\"Company\": \"BlackRock\", \"CEO\": \"Larry Fink\", \"Stock Symbol\": \"BLK\"},\n",
        "    {\"Company\": \"Fannie Mae\", \"CEO\": \"Hugh R. Frater\", \"Stock Symbol\": \"FNMA\"},\n",
        "    {\"Company\": \"The Walt Disney Company\", \"CEO\": \"Bob Chapek\", \"Stock Symbol\": \"DIS\"},\n",
        "    {\"Company\": \"Aetna\", \"CEO\": \"Mark T. Bertolini\", \"Stock Symbol\": \"AET\"},\n",
        "    {\"Company\": \"Morgan Stanley\", \"CEO\": \"James P. Gorman\", \"Stock Symbol\": \"MS\"}\n",
        "]\n"
      ],
      "metadata": {
        "id": "IvCV9WywgM35"
      },
      "execution_count": null,
      "outputs": []
    },
    {
      "cell_type": "code",
      "source": [],
      "metadata": {
        "id": "uJhUutUuRS5n"
      },
      "execution_count": null,
      "outputs": []
    },
    {
      "cell_type": "markdown",
      "source": [
        "# Step Two - Define Python functions to fetch Reddit posts and code block to write Reddit posts.\n",
        "1.   fetch_reddit_posts fuction - to write Reddit posts to dataframe.\n",
        "2.   Write all posts to csv file.\n",
        "\n"
      ],
      "metadata": {
        "id": "rn5QPqRacAvk"
      }
    },
    {
      "cell_type": "code",
      "source": [
        "# Reddit Posts function\n",
        "def fetch_reddit_posts(query, limit=return_limit):\n",
        "    posts_data = []\n",
        "    try:\n",
        "        for post in reddit.subreddit(\"all\").search(query, sort='top', limit=limit):\n",
        "          posts_data.append({\n",
        "                \"id\": post.id,\n",
        "                \"title\": post.title,\n",
        "                \"subreddit\": post.subreddit.display_name,\n",
        "                \"created_utc\": post.created_utc,\n",
        "                \"url\": post.url,\n",
        "                \"score\": post.score,\n",
        "                \"upvote_ratio\": post.upvote_ratio,\n",
        "                \"num_comments\": post.num_comments,\n",
        "                \"author\": post.author.name if post.author else None,  # Author's username\n",
        "                \"author_fullname\": post.author_fullname if post.author else None,\n",
        "                \"num_crossposts\": post.num_crossposts,\n",
        "                \"keyword\": query,  # Add the keyword to the post data\n",
        "                \"company_name\": company_name  # Add the tied company name\n",
        "            })\n",
        "\n",
        "        # Convert to DataFrame\n",
        "        df = pd.DataFrame(posts_data)\n",
        "        return df\n",
        "    except Exception as e:\n",
        "        print(f\"Error fetching posts: {e}\")\n",
        "        return pd.DataFrame()\n"
      ],
      "metadata": {
        "id": "Huk1CkqHhQBQ"
      },
      "execution_count": null,
      "outputs": []
    },
    {
      "cell_type": "code",
      "execution_count": null,
      "metadata": {
        "collapsed": true,
        "id": "d0cJULqlsxa5"
      },
      "outputs": [],
      "source": [
        "# Write posts to CSV and all_posts_df\n",
        "# Initialize an empty DataFrame to store all posts\n",
        "all_posts_df = pd.DataFrame()\n",
        "\n",
        "# Fetch posts for each keyword and append to all_posts_df\n",
        "for company in fortune_100_ceos_with_symbols:\n",
        "    company_name = company[\"Company\"]\n",
        "    ceo_name = company[\"CEO\"]\n",
        "    stock_symbol = company[\"Stock Symbol\"]\n",
        "\n",
        "    df_reddit_posts = fetch_reddit_posts(company_name, limit=return_limit)\n",
        "    all_posts_df = pd.concat([all_posts_df, df_reddit_posts], ignore_index=True)  # Append the new company name results\n",
        "\n",
        "    df_reddit_posts = fetch_reddit_posts(ceo_name, limit=return_limit)\n",
        "    all_posts_df = pd.concat([all_posts_df, df_reddit_posts], ignore_index=True)  # Append the new ceo results\n",
        "\n",
        "    df_reddit_posts = fetch_reddit_posts(stock_symbol, limit=return_limit)\n",
        "    all_posts_df = pd.concat([all_posts_df, df_reddit_posts], ignore_index=True)  # Append the new stock\n",
        "\n",
        "    time.sleep(2)  # Sleep to avoid rate limits\n",
        "\n",
        "# Data cleansing to remove duplicate records and those missing url then convert utc (unix) to date time\n",
        "all_posts_df = all_posts_df.drop_duplicates()\n",
        "all_posts_df = all_posts_df.drop_duplicates(subset='id', keep='first')\n",
        "all_post_df = df_reddit_posts[df_reddit_posts['url'].str.len() >= 5]\n",
        "\n",
        "\n",
        "# Save the combined DataFrame to CSV\n",
        "csv_file_name = \"reddit_posts.csv\"\n",
        "all_posts_df.to_csv(csv_file_name, index=False)\n",
        "\n",
        "# Download the CSV file\n",
        "files.download(csv_file_name)\n"
      ]
    },
    {
      "cell_type": "markdown",
      "source": [
        "# Step Three - Write all_posts_df to MySQL table reddit_posts."
      ],
      "metadata": {
        "id": "5vu5BS68dKOj"
      }
    },
    {
      "cell_type": "code",
      "source": [
        "# Write reddit posts to MySQL table\n",
        "try:\n",
        "    # Establish connection to MySQL\n",
        "    conn = mysql.connector.connect(\n",
        "        host=DB_HOST,\n",
        "        user=DB_USER,\n",
        "        password=DB_PASSWORD,\n",
        "        database=DB_NAME\n",
        "    )\n",
        "\n",
        "    cursor = conn.cursor()\n",
        "\n",
        "    # Insert data row by row (You can optimize this with batch insert if needed)\n",
        "    for _, row in all_posts_df.iterrows():\n",
        "        created_utc_mysql = pd.to_datetime(row['created_utc'], unit='s').strftime('%Y-%m-%d %H:%M:%S')\n",
        "        cursor.execute(\"\"\"\n",
        "            INSERT INTO reddit_posts (id, title, subreddit, created_utc, url, score, upvote_ratio, num_comments, author, author_fullname, num_crossposts, keyword, company_name)\n",
        "            VALUES (%s, %s, %s, %s, %s, %s, %s, %s, %s, %s, %s, %s, %s)\n",
        "        \"\"\", (\n",
        "            row['id'],\n",
        "            row['title'],\n",
        "            row['subreddit'],\n",
        "            created_utc_mysql,\n",
        "            row['url'],\n",
        "            row['score'],\n",
        "            row['upvote_ratio'],\n",
        "            row['num_comments'],\n",
        "            row['author'],\n",
        "            row['author_fullname'],\n",
        "            row['num_crossposts'],\n",
        "            row['keyword'],\n",
        "            row['company_name']\n",
        "        ))\n",
        "\n",
        "    # Commit the transaction\n",
        "    conn.commit()\n",
        "    print(\"✅ Data inserted successfully into the MySQL database.\")\n",
        "\n",
        "except mysql.connector.Error as err:\n",
        "    print(f\"❌ Error: {err}\")\n",
        "\n",
        "finally:\n",
        "    if 'conn' in locals() and conn.is_connected():\n",
        "        cursor.close()\n",
        "        conn.close()\n",
        "        print(\"🔌 Connection closed.\")"
      ],
      "metadata": {
        "id": "UK-0lwrxWLWn"
      },
      "execution_count": null,
      "outputs": []
    }
  ]
}